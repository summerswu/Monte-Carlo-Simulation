{
 "cells": [
  {
   "cell_type": "code",
   "execution_count": 17,
   "metadata": {},
   "outputs": [],
   "source": [
    "from numpy import linspace\n",
    "from numpy.random import uniform\n",
    "from sympy.parsing.sympy_parser import eval_expr\n",
    " \n",
    "import numpy\n",
    "numpy_dict = {a: getattr(numpy, a) for a in dir(numpy)}\n",
    "\n",
    "xs = uniform(0, 2, 100) \n",
    "\n",
    "fct = 'sqrt(4-xs**2)'\n"
   ]
  },
  {
   "cell_type": "code",
   "execution_count": 18,
   "metadata": {},
   "outputs": [
    {
     "name": "stdout",
     "output_type": "stream",
     "text": [
      "[1.66022809 1.68918402 1.28386265 1.97644543 1.71274614 1.67173225\n",
      " 1.41325597 1.45067846 1.8809967  1.73363785 1.98490384 1.42672536\n",
      " 0.64235882 1.94296003 1.8139853  1.83534323 1.51960104 1.58496862\n",
      " 0.77782303 1.36590494 0.91970633 1.80461604 1.915006   1.58534581\n",
      " 1.76227463 1.64507933 0.95026094 1.59707256 1.6695188  1.92960948\n",
      " 1.99114611 1.11138833 0.6707973  1.9999951  0.6958252  1.89526653\n",
      " 1.54685875 1.27033556 1.83198716 1.94808665 1.68247041 1.26481271\n",
      " 1.95300853 1.8673201  1.96607593 1.93807611 1.97357421 1.63903328\n",
      " 1.99431462 1.68323646 0.65072821 1.43035541 1.97068786 1.39573738\n",
      " 1.99483485 1.99978068 1.67087016 1.91163551 1.99576849 1.59654185\n",
      " 1.99998294 1.98952195 1.92130513 1.75422527 1.99268698 1.97486802\n",
      " 0.8469706  1.9478039  1.95893328 1.99629344 0.64444952 1.90945403\n",
      " 0.68444055 1.9802598  1.8548937  1.99810704 1.40481886 1.37075644\n",
      " 1.24013445 0.85217171 1.99241527 0.73807906 1.83938338 1.94274433\n",
      " 1.99987039 1.84698154 1.99558659 1.96845059 1.8812865  1.84176515\n",
      " 1.8359937  1.94868588 1.93337891 1.99991081 0.56762357 1.95540499\n",
      " 1.86429384 1.99842105 1.63200397 0.82785572]\n"
     ]
    }
   ],
   "source": [
    "print(eval_expr(fct, {'xs': xs}, numpy_dict))"
   ]
  },
  {
   "cell_type": "code",
   "execution_count": null,
   "metadata": {},
   "outputs": [],
   "source": []
  }
 ],
 "metadata": {
  "kernelspec": {
   "display_name": "Python 3",
   "language": "python",
   "name": "python3"
  },
  "language_info": {
   "codemirror_mode": {
    "name": "ipython",
    "version": 3
   },
   "file_extension": ".py",
   "mimetype": "text/x-python",
   "name": "python",
   "nbconvert_exporter": "python",
   "pygments_lexer": "ipython3",
   "version": "3.7.0"
  }
 },
 "nbformat": 4,
 "nbformat_minor": 2
}
