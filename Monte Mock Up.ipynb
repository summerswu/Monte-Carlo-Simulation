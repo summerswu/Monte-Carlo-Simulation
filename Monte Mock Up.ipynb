{
 "cells": [
  {
   "cell_type": "code",
   "execution_count": 13,
   "metadata": {},
   "outputs": [
    {
     "name": "stdout",
     "output_type": "stream",
     "text": [
      "(0, 0) Distance 0\n",
      "(0, -4) Distance 4\n",
      "(1, -1) Distance 2\n",
      "(5, 1) Distance 6\n",
      "(1, -1) Distance 2\n",
      "(-2, 0) Distance 2\n",
      "(2, 0) Distance 2\n",
      "(0, 0) Distance 0\n",
      "(0, 0) Distance 0\n",
      "(1, -1) Distance 2\n",
      "(-1, 3) Distance 4\n",
      "(-2, -2) Distance 4\n",
      "(3, -3) Distance 6\n",
      "(4, 0) Distance 4\n",
      "(-2, 2) Distance 4\n",
      "(0, 2) Distance 2\n",
      "(2, -2) Distance 4\n",
      "(-1, -1) Distance 2\n",
      "(-1, 1) Distance 2\n",
      "(0, -4) Distance 4\n",
      "(3, -1) Distance 4\n",
      "(4, 0) Distance 4\n",
      "(0, 2) Distance 2\n",
      "(0, 2) Distance 2\n",
      "(-2, -2) Distance 4\n"
     ]
    }
   ],
   "source": [
    "import random\n",
    "\n",
    "def random_walk(n):\n",
    "    x = 0\n",
    "    y = 0\n",
    "    #initialize the grand \n",
    "    for i in range(n):\n",
    "        step = random.choice(['N','S','E','W'])\n",
    "        if step == 'N':\n",
    "            y = y + 1\n",
    "        elif step == 'S':\n",
    "            y = y - 1\n",
    "        elif step =='E':\n",
    "            x = x + 1\n",
    "        else:\n",
    "            x = x - 1\n",
    "    return (x, y)\n",
    "\n",
    "for i in range(25):\n",
    "    walk = random_walk(10)\n",
    "    print(walk, \"Distance\", abs(walk[0])+abs(walk[1]) )"
   ]
  },
  {
   "cell_type": "code",
   "execution_count": 14,
   "metadata": {},
   "outputs": [
    {
     "name": "stdout",
     "output_type": "stream",
     "text": [
      "(-1, -3) Distance 4\n",
      "(1, 3) Distance 4\n",
      "(-2, -4) Distance 6\n",
      "(-2, 2) Distance 4\n",
      "(-1, 7) Distance 8\n",
      "(1, 1) Distance 2\n",
      "(0, -2) Distance 2\n",
      "(-3, -3) Distance 6\n",
      "(-1, -1) Distance 2\n",
      "(-4, 0) Distance 4\n",
      "(1, -3) Distance 4\n",
      "(-2, 0) Distance 2\n",
      "(-2, -4) Distance 6\n",
      "(-1, 1) Distance 2\n",
      "(3, 3) Distance 6\n",
      "(2, 2) Distance 4\n",
      "(-2, -2) Distance 4\n",
      "(1, 1) Distance 2\n",
      "(0, -2) Distance 2\n",
      "(2, 4) Distance 6\n",
      "(0, -2) Distance 2\n",
      "(-2, -4) Distance 6\n",
      "(1, -3) Distance 4\n",
      "(2, 2) Distance 4\n",
      "(0, -2) Distance 2\n"
     ]
    }
   ],
   "source": [
    "def random_walk_2(n):\n",
    "    x,y = 0, 0\n",
    "    for i in range(n):\n",
    "        dx,dy = random.choice([(0,-1),(0,1),(1,0),(-1,0)])\n",
    "        x+=dx\n",
    "        y+=dy\n",
    "    return (x,y)\n",
    "\n",
    "for i in range(25):\n",
    "    walk = random_walk(10)\n",
    "    print(walk, \"Distance\", abs(walk[0])+abs(walk[1]))\n",
    "    "
   ]
  },
  {
   "cell_type": "code",
   "execution_count": null,
   "metadata": {},
   "outputs": [],
   "source": [
    "monte_carlo_sample = 10\n",
    "\n",
    "for i in range(1,31):\n",
    "    no_transport = 0\n",
    "    for i in range(monte_carlo_sample):\n",
    "        walk = random_walk(i)\n",
    "        distance_FH = abs(walk[0])+abs(walk[1])\n",
    "        if distance_FH<=4:\n",
    "            no_transport = no_transport + 1 \n",
    "    percent_no_transport = float(no_transport / monte_carlo_sample)\n",
    "    print(\"The random walk is \",i, \"The percent is: \", percent_no_transport)\n"
   ]
  },
  {
   "cell_type": "code",
   "execution_count": null,
   "metadata": {},
   "outputs": [],
   "source": []
  }
 ],
 "metadata": {
  "kernelspec": {
   "display_name": "Python 3",
   "language": "python",
   "name": "python3"
  },
  "language_info": {
   "codemirror_mode": {
    "name": "ipython",
    "version": 3
   },
   "file_extension": ".py",
   "mimetype": "text/x-python",
   "name": "python",
   "nbconvert_exporter": "python",
   "pygments_lexer": "ipython3",
   "version": "3.7.0"
  }
 },
 "nbformat": 4,
 "nbformat_minor": 2
}
